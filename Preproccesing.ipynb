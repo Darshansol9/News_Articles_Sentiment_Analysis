{
 "cells": [
  {
   "cell_type": "code",
   "execution_count": 40,
   "metadata": {
    "collapsed": true
   },
   "outputs": [],
   "source": [
    "import pandas as pd\n",
    "import numpy as np\n",
    "import matplotlib.pyplot as plt\n",
    "import seaborn as sns\n",
    "import re\n",
    "import nltk\n",
    "from nltk.tokenize import sent_tokenize, word_tokenize\n",
    "from nltk.corpus import stopwords\n",
    "from nltk.stem import PorterStemmer\n",
    "import os\n",
    "import sys"
   ]
  },
  {
   "cell_type": "code",
   "execution_count": null,
   "metadata": {
    "collapsed": true
   },
   "outputs": [],
   "source": [
    "def preprocess_text(texts):\n",
    "    processed_sentences = []\n",
    "    for text in sent_tokenize(texts):\n",
    "        \n",
    "        #Removing all special characters'\n",
    "        processed_feature = re.sub(r'\\W', ' ', text)\n",
    "\n",
    "        # remove all single characters\n",
    "        processed_feature= re.sub(r'\\s+[a-zA-Z]\\s+', ' ', processed_feature)\n",
    "\n",
    "        # Remove single characters from the start\n",
    "        processed_feature = re.sub(r'\\^[a-zA-Z]\\s+', ' ', processed_feature) \n",
    "\n",
    "        # Substituting multiple spaces with single space\n",
    "        processed_feature = re.sub(r'\\s+', ' ', processed_feature, flags=re.I)\n",
    "\n",
    "        # Converting to Lowercase\n",
    "        processed_feature = processed_feature.lower()\n",
    "\n",
    "        # Storing each processed sent in the list\n",
    "        processed_sentences.append(processed_feature)\n",
    "        \n",
    "    processed_sent = '.'.join(processed_sentences)\n",
    "    return"
   ]
  },
  {
   "cell_type": "code",
   "execution_count": null,
   "metadata": {
    "collapsed": true
   },
   "outputs": [],
   "source": [
    "#Removing stopwords\n",
    "\n",
    "def remove_stopwords(text):\n",
    "    \n",
    "    sentences = sent_tokenize(text)\n",
    "    \n",
    "    #Using stopwords library\n",
    "    \n",
    "    stop_words_ = set(stopwords.words('english'))\n",
    "    filter_stopwords = []\n",
    "    \n",
    "    for sent in sentences:\n",
    "        words = word_tokenize(sent)\n",
    "        filtered_words = []\n",
    "        for w in words:\n",
    "            if(w not in stop_words_):\n",
    "                filtered_words.append(w)\n",
    "\n",
    "        sentence =' '.join(filtered_words)\n",
    "        filter_stopwords.append(sentence)\n",
    "        \n",
    "    sent = '.'.join(filtered_stopwords)\n",
    "    return sent"
   ]
  },
  {
   "cell_type": "code",
   "execution_count": null,
   "metadata": {
    "collapsed": true
   },
   "outputs": [],
   "source": [
    "#Lemmatizing the words\n",
    "\n",
    "def lemmatize_text(text):\n",
    "    \n",
    "    lemmatizer = WordNetLemmatizer() \n",
    "    processed_features = []\n",
    "    for sent in filter_stopwords:\n",
    "        words = word_tokenize(sent)\n",
    "        filter_lemma = []\n",
    "        for w in words:\n",
    "            filter_lemma.append(lemmatizer.lemmatize(w))\n",
    "\n",
    "        sentence = ' '.join(filter_lemma)\n",
    "        processed_features.append(sentence)\n",
    "        \n",
    "    processed_text = '.'.join(processed_features)\n",
    "    return processed_text"
   ]
  },
  {
   "cell_type": "code",
   "execution_count": 41,
   "metadata": {},
   "outputs": [
    {
     "name": "stdout",
     "output_type": "stream",
     "text": [
      "CNN_0_2019119_1573275600.0.txt processsing 153 89\n",
      "CNN_1_2019119_1573275600.0.txt processsing 792 419\n",
      "CNN_2_2019119_1573275600.0.txt processsing 203 116\n",
      "CNN_3_2019119_1573275600.0.txt processsing 328 166\n",
      "CNN_4_2019119_1573275600.0.txt processsing 2178 1100\n",
      "CNN_5_2019119_1573275600.0.txt processsing 733 362\n"
     ]
    }
   ],
   "source": [
    "\n",
    "os.chdir(r'C:\\Users\\Darshan\\Music\\raman_kannan\\NLP\\preprocessing')\n",
    "\n",
    "for file in os.listdir('.'):\n",
    "    if(file.find('.txt')):\n",
    "        #Spilting the basename and extension\n",
    "        file_n,file_ext = os.path.splitext(file)\n",
    "\n",
    "        #Reading data from the file\n",
    "        lst = open(file,'r').readlines()\n",
    "        texts = str(lst[0])\n",
    "\n",
    "        #Saving the number of words in original file to compare with preprocessed file words\n",
    "        original_sent = word_tokenize(texts)\n",
    "\n",
    "        #Cleaning the text\n",
    "        clean_sent = preprocess_text(text)\n",
    "\n",
    "        #Removing stopwords\n",
    "        clean_stop = remove_stopwords(clean_sent)\n",
    "\n",
    "        #Lemmatizing the words\n",
    "        clean_lemma = lemmatize_text(clean_stop)\n",
    "\n",
    "        #Giving the comparision in percentage of words reduced\n",
    "        print(f'{file} processsing',(len(original_sent)-len(word_tokenize(processed_sent)))/len(original-sent)*100)\n",
    "\n",
    "        #Writing it in a file\n",
    "        fp = open(f'{file_n}_pp{file_ext}','w')\n",
    "        fp.write(clean_lemma)\n",
    "        fp.close()\n",
    "    \n"
   ]
  }
 ],
 "metadata": {
  "kernelspec": {
   "display_name": "Python 3",
   "language": "python",
   "name": "python3"
  },
  "language_info": {
   "codemirror_mode": {
    "name": "ipython",
    "version": 3
   },
   "file_extension": ".py",
   "mimetype": "text/x-python",
   "name": "python",
   "nbconvert_exporter": "python",
   "pygments_lexer": "ipython3",
   "version": "3.6.3"
  }
 },
 "nbformat": 4,
 "nbformat_minor": 2
}
