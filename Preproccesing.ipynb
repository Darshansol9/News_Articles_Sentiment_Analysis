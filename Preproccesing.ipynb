{
 "cells": [
  {
   "cell_type": "code",
   "execution_count": null,
   "metadata": {
    "collapsed": true
   },
   "outputs": [],
   "source": [
    "import pandas as pd\n",
    "import numpy as np\n",
    "import matplotlib.pyplot as plt\n",
    "import seaborn as sns\n",
    "import re\n",
    "import nltk\n",
    "from nltk.tokenize import sent_tokenize, word_tokenize\n",
    "from nltk.corpus import stopwords\n",
    "from nltk.stem import PorterStemmer,WordNetLemmatizer\n",
    "import os\n",
    "import sys"
   ]
  },
  {
   "cell_type": "code",
   "execution_count": null,
   "metadata": {
    "collapsed": true
   },
   "outputs": [],
   "source": [
    "def preprocess_text(texts):\n",
    "    processed_sentences = []\n",
    "    for text in sent_tokenize(texts):\n",
    "        \n",
    "        #Removing all special characters'\n",
    "        processed_feature = re.sub(r'\\W', ' ', text)\n",
    "\n",
    "        # remove all single characters\n",
    "        processed_feature= re.sub(r'\\s+[a-zA-Z]\\s+', ' ', processed_feature)\n",
    "\n",
    "        # Remove single characters from the start\n",
    "        processed_feature = re.sub(r'\\^[a-zA-Z]\\s+', ' ', processed_feature) \n",
    "\n",
    "        # Substituting multiple spaces with single space\n",
    "        processed_feature = re.sub(r'\\s+', ' ', processed_feature, flags=re.I)\n",
    "\n",
    "        # Converting to Lowercase\n",
    "        processed_feature = processed_feature.lower()\n",
    "\n",
    "        # Storing each processed sent in the list\n",
    "        processed_sentences.append(processed_feature)\n",
    "        \n",
    "    processed_sent = '.'.join(processed_sentences)\n",
    "    #print(processed_sent)\n",
    "    return processed_sent"
   ]
  },
  {
   "cell_type": "code",
   "execution_count": null,
   "metadata": {
    "collapsed": true
   },
   "outputs": [],
   "source": [
    "#Removing stopwords\n",
    "\n",
    "def remove_stopwords(text):\n",
    "    \n",
    "    sentences = sent_tokenize(text)\n",
    "    \n",
    "    #Using stopwords library\n",
    "    \n",
    "    stop_words_ = set(stopwords.words('english'))\n",
    "    filter_stopwords = []\n",
    "    \n",
    "    for sent in sentences:\n",
    "        words = word_tokenize(sent)\n",
    "        filtered_words = []\n",
    "        for w in words:\n",
    "            if(w not in stop_words_):\n",
    "                filtered_words.append(w)\n",
    "\n",
    "        sentence =' '.join(filtered_words)\n",
    "        filter_stopwords.append(sentence)\n",
    "        \n",
    "    sent = '.'.join(filter_stopwords)\n",
    "    return sent"
   ]
  },
  {
   "cell_type": "code",
   "execution_count": null,
   "metadata": {
    "collapsed": true
   },
   "outputs": [],
   "source": [
    "#Lemmatizing the words\n",
    "\n",
    "def lemmatize_text(text):\n",
    "    \n",
    "    lemmatizer = WordNetLemmatizer() \n",
    "    processed_features = []\n",
    "    filter_stopwords = sent_tokenize(text)\n",
    "    \n",
    "    \n",
    "    for sent in filter_stopwords:\n",
    "        words = word_tokenize(sent)\n",
    "        filter_lemma = []\n",
    "        for w in words:\n",
    "            filter_lemma.append(lemmatizer.lemmatize(w))\n",
    "\n",
    "        sentence = ' '.join(filter_lemma)\n",
    "        processed_features.append(sentence)\n",
    "        \n",
    "    processed_text = '.'.join(processed_features)\n",
    "    return processed_text"
   ]
  },
  {
   "cell_type": "code",
   "execution_count": null,
   "metadata": {},
   "outputs": [],
   "source": [
    "path = r'C:\\Users\\Darshan\\Music\\raman_kannan\\NLP\\preprocessing\\preprocessing_articles\\2017'\n",
    "os.chdir(path)\n",
    "\n",
    "for d in os.listdir('.'):\n",
    "    os.chdir(path+f'\\\\{d}')\n",
    "    print(f'Directory {d} is getting processed')\n",
    "    for file in os.listdir('.'):\n",
    "        if(file.find('.txt')):\n",
    "            #Spilting the basename and extension\n",
    "            file_n,file_ext = os.path.splitext(file)\n",
    "\n",
    "            #Reading data from the file\n",
    "            lst = open(file,'r',encoding='utf-8').readlines()\n",
    "            if(len(lst[0]) == 0):\n",
    "                continue\n",
    "            texts = str(lst[0])\n",
    "\n",
    "            #print(texts)\n",
    "\n",
    "            #Saving the number of words in original file to compare with preprocessed file words\n",
    "            original_sent = word_tokenize(texts)\n",
    "\n",
    "            #Cleaning the text\n",
    "            clean_sent = preprocess_text(texts)\n",
    "            #print('Cleaning words Done')\n",
    "\n",
    "\n",
    "            #Removing stopwords\n",
    "            clean_stop = remove_stopwords(clean_sent)\n",
    "            #print('Cleaning stop words Done')\n",
    "\n",
    "            #Lemmatizing the words\n",
    "            clean_lemma = lemmatize_text(clean_stop)\n",
    "            #print('Cleaning lemma words Done')\n",
    "\n",
    "            #Giving the comparision in percentage of words reduced\n",
    "            #print(f'{file} processsing',(len(original_sent)-len(word_tokenize(clean_lemma)))/len(original_sent)*100)\n",
    "\n",
    "            clean_file = preprocess_text(clean_lemma)\n",
    "\n",
    "            #Writing it in a file\n",
    "            fp = open(f'{file_n}_pp{file_ext}','w',encoding = 'utf-8')\n",
    "            fp.write(clean_file)\n",
    "            fp.close()\n",
    "\n",
    "            #Deleting original file\n",
    "\n",
    "            os.remove(file)\n",
    "print('Request Completed')\n"
   ]
  },
  {
   "cell_type": "code",
   "execution_count": null,
   "metadata": {
    "collapsed": true
   },
   "outputs": [],
   "source": []
  }
 ],
 "metadata": {
  "kernelspec": {
   "display_name": "Python 3",
   "language": "python",
   "name": "python3"
  },
  "language_info": {
   "codemirror_mode": {
    "name": "ipython",
    "version": 3
   },
   "file_extension": ".py",
   "mimetype": "text/x-python",
   "name": "python",
   "nbconvert_exporter": "python",
   "pygments_lexer": "ipython3",
   "version": "3.6.3"
  }
 },
 "nbformat": 4,
 "nbformat_minor": 2
}
