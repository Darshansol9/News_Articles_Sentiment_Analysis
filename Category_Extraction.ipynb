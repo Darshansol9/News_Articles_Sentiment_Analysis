{
 "cells": [
  {
   "cell_type": "code",
   "execution_count": 4,
   "metadata": {
    "collapsed": true
   },
   "outputs": [],
   "source": [
    "import newspaper\n",
    "from newspaper import Article\n",
    "import pandas as pd\n",
    "import numpy as np"
   ]
  },
  {
   "cell_type": "code",
   "execution_count": 19,
   "metadata": {},
   "outputs": [
    {
     "name": "stdout",
     "output_type": "stream",
     "text": [
      "http://www.nbcnews.com/\n",
      "http://www.nbcnews.com/think\n",
      "https://secure.nbcnews.com\n",
      "https://www.nbcnews.com\n",
      "http://www.nbcnews.com/better\n",
      "https://veterans.nbcnews.com\n",
      "http://www.nbcnews.com/politics\n"
     ]
    }
   ],
   "source": [
    "#Glimpse of getting categories from a website\n",
    "'''\n",
    "cnn_paper = newspaper.build('https://www.nbcnews.com', memoize_articles=False)\n",
    "for category in cnn_paper.category_urls():\n",
    "    print(category)\n",
    "\n",
    "'''\n"
   ]
  },
  {
   "cell_type": "code",
   "execution_count": 28,
   "metadata": {},
   "outputs": [
    {
     "name": "stdout",
     "output_type": "stream",
     "text": [
      "https://www.nbcnews.com/video/watch-live-trump-and-turkey-s-erdogan-hold-joint-news-conference-73338949921\n",
      "https://www.nbcnews.com/news/world\n",
      "https://www.nbcnews.com/news/asian-america\n",
      "https://www.nbcnews.com/news/latino\n"
     ]
    }
   ],
   "source": [
    "#Glimpse of getting articles url from a website category\n",
    "'''\n",
    "cnn = newspaper.build('https://www.nbcnews.com/us-news',memoize_articles=False)\n",
    "for a in cnn.articles:\n",
    "    a.download()\n",
    "    a.parse()\n",
    "    a.url()\n",
    "'''"
   ]
  },
  {
   "cell_type": "code",
   "execution_count": 23,
   "metadata": {},
   "outputs": [
    {
     "name": "stdout",
     "output_type": "stream",
     "text": [
      "None\n",
      "Completed\n"
     ]
    }
   ],
   "source": [
    "import pandas as pd\n",
    "dict = {\n",
    "  \"cnn\": {\n",
    "        \"category_urls\":{},\n",
    "        \"link\": \"http://www.cnn.com/\",\n",
    "        \"articles\": {},\n",
    "        \"category\":['us','u.s.a','america','americas','politics','election','crime','justice','business','health','world','news'],\n",
    "        \"keywords\":['u.s','u.s.a','us','america','usa','donald','trump']\n",
    "  },\n",
    "  \"bbc\": {\n",
    "        \"category_urls\":{'us':'https://www.bbc.com/news/world/us_and_canada','world':'https://www.bbc.com/news/world','health':'https://www.bbc.com/news/health','business':'https://www.bbc.com/news/business'},\n",
    "        \"link\": \"https://www.bbc.com/news/\",\n",
    "        \"articles\":{},\n",
    "        \"category\":['us','u.s.a','america','americas','politics','election','crime','justice','business','health','world','news'],\n",
    "        \"keywords\":['u.s','u.s.a','us','america','usa','donald','trump']\n",
    "    \n",
    "  },\n",
    "  \"foxnews\": {\n",
    "        \"category_urls\":{'us':'https://www.foxnews.com/us','world':'https://www.foxnews.com/world','politics':'https://www.foxnews.com/politics'},\n",
    "        \"link\": \"http://www.foxnews.com/\",\n",
    "        \"articles\":{},\n",
    "        \"category\":['us','u.s.a','america','americas','politics','election','crime','justice','business','health','world','news'],\n",
    "        \"keywords\":['u.s','u.s.a','us','america','usa','donald','trump']\n",
    "  },\n",
    "  \"nbcnews\": {\n",
    "        \"category_urls\":{'us':'https://www.nbcnews.com/us-news','health':'https://www.nbcnews.com/health','business':'https://www.nbcnews.com/business','world':'https://www.nbcnews.com/world'},\n",
    "        \"link\": \"http://www.nbcnews.com/\",\n",
    "        \"articles\":{},\n",
    "        \"category\":['us','u.s.a','america','americas','politics','election','crime','justice','business','health','world','news'],\n",
    "        \"keywords\":['u.s','u.s.a','us','america','usa','donald','trump']\n",
    "        \n",
    "  },\n",
    "  \"washingtonpost\": {\n",
    "        \"category_urls\":{},\n",
    "        \"link\": \"https://www.washingtonpost.com/\",\n",
    "        \"articles\":{},\n",
    "        \"category\":['us','u.s.a','america','americas','politics','election','crime','justice','business','health','world','news'],\n",
    "        \"keywords\":['u.s','u.s.a','us','america','usa','donald','trump']\n",
    "        \n",
    "        }\n",
    "}\n",
    "df = pd.DataFrame(dict)\n",
    "print(df.to_json(\"Sources.json\"))\n",
    "print('Completed')"
   ]
  },
  {
   "cell_type": "code",
   "execution_count": 24,
   "metadata": {},
   "outputs": [
    {
     "name": "stdout",
     "output_type": "stream",
     "text": [
      "                                                             bbc  \\\n",
      "articles                                                      {}   \n",
      "category       [us, u.s.a, america, americas, politics, elect...   \n",
      "category_urls  {'us': 'https://www.bbc.com/news/world/us_and_...   \n",
      "keywords           [u.s, u.s.a, us, america, usa, donald, trump]   \n",
      "link                                   https://www.bbc.com/news/   \n",
      "\n",
      "                                                             cnn  \\\n",
      "articles                                                      {}   \n",
      "category       [us, u.s.a, america, americas, politics, elect...   \n",
      "category_urls                                                 {}   \n",
      "keywords           [u.s, u.s.a, us, america, usa, donald, trump]   \n",
      "link                                         http://www.cnn.com/   \n",
      "\n",
      "                                                         foxnews  \\\n",
      "articles                                                      {}   \n",
      "category       [us, u.s.a, america, americas, politics, elect...   \n",
      "category_urls  {'us': 'https://www.foxnews.com/us', 'world': ...   \n",
      "keywords           [u.s, u.s.a, us, america, usa, donald, trump]   \n",
      "link                                     http://www.foxnews.com/   \n",
      "\n",
      "                                                         nbcnews  \\\n",
      "articles                                                      {}   \n",
      "category       [us, u.s.a, america, americas, politics, elect...   \n",
      "category_urls  {'us': 'https://www.nbcnews.com/us-news', 'hea...   \n",
      "keywords           [u.s, u.s.a, us, america, usa, donald, trump]   \n",
      "link                                     http://www.nbcnews.com/   \n",
      "\n",
      "                                                  washingtonpost  \n",
      "articles                                                      {}  \n",
      "category       [us, u.s.a, america, americas, politics, elect...  \n",
      "category_urls                                                 {}  \n",
      "keywords           [u.s, u.s.a, us, america, usa, donald, trump]  \n",
      "link                             https://www.washingtonpost.com/  \n",
      "{'us': 'https://www.bbc.com/news/world/us_and_canada', 'world': 'https://www.bbc.com/news/world', 'health': 'https://www.bbc.com/news/health', 'business': 'https://www.bbc.com/news/business', 'news': 'http://www.bbc.com/news'}\n",
      "{'politics': 'http://www.cnn.com/politics', 'us': 'http://www.cnn.com/us', 'world': 'http://www.cnn.com/world', 'americas': 'http://www.cnn.com/americas', 'business': 'http://www.cnn.com/business', 'health': 'http://www.cnn.com/health'}\n",
      "{'us': 'https://www.foxnews.com/us', 'world': 'https://www.foxnews.com/world', 'politics': 'https://www.foxnews.com/politics'}\n",
      "{'us': 'https://www.nbcnews.com/us-news', 'health': 'https://www.nbcnews.com/health', 'business': 'https://www.nbcnews.com/business', 'world': 'https://www.nbcnews.com/world', 'politics': 'http://www.nbcnews.com/politics'}\n",
      "{}\n",
      "Request_Completed\n"
     ]
    }
   ],
   "source": [
    "import json\n",
    "from collections import defaultdict\n",
    "\n",
    "\n",
    "df = pd.read_json('Sources.json')\n",
    "print(df.head())\n",
    "\n",
    "for source in df:\n",
    "    url = df[source]['link']\n",
    "    cat_dict = df[source]['category']\n",
    "    website = f'web_{source}'\n",
    "    try:\n",
    "        website = newspaper.build(url,memoize=False)\n",
    "        category = {}\n",
    "        for cat in website.category_urls():\n",
    "            key = cat.split('/')[-1]\n",
    "            if(key == ''):\n",
    "                pass\n",
    "            if(key.lower() in cat_dict):\n",
    "                category[key] = cat\n",
    "            \n",
    "        #print(f'Category for {source} ',category)    \n",
    "        df[source]['category_urls'].update(category)\n",
    "        print(df[source]['category_urls'])\n",
    "    except BaseException as e:\n",
    "        print(str(e))\n",
    "        \n",
    "        \n",
    "df.to_json('News_Sources_Test.json')\n",
    "print('Request_Completed')\n",
    "    \n",
    "        \n",
    "    "
   ]
  },
  {
   "cell_type": "code",
   "execution_count": null,
   "metadata": {
    "collapsed": true
   },
   "outputs": [],
   "source": []
  }
 ],
 "metadata": {
  "kernelspec": {
   "display_name": "Python 3",
   "language": "python",
   "name": "python3"
  },
  "language_info": {
   "codemirror_mode": {
    "name": "ipython",
    "version": 3
   },
   "file_extension": ".py",
   "mimetype": "text/x-python",
   "name": "python",
   "nbconvert_exporter": "python",
   "pygments_lexer": "ipython3",
   "version": "3.6.3"
  }
 },
 "nbformat": 4,
 "nbformat_minor": 2
}
