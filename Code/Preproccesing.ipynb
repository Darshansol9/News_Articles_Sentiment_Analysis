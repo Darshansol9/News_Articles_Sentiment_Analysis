{
 "cells": [
  {
   "cell_type": "code",
   "execution_count": 40,
   "metadata": {
    "collapsed": true
   },
   "outputs": [],
   "source": [
    "import pandas as pd\n",
    "import numpy as np\n",
    "import matplotlib.pyplot as plt\n",
    "import seaborn as sns\n",
    "import re\n",
    "import nltk\n",
    "from nltk.tokenize import sent_tokenize, word_tokenize\n",
    "from nltk.corpus import stopwords\n",
    "from nltk.stem import PorterStemmer\n",
    "import os\n",
    "import sys"
   ]
  },
  {
   "cell_type": "code",
   "execution_count": 41,
   "metadata": {},
   "outputs": [
    {
     "name": "stdout",
     "output_type": "stream",
     "text": [
      "CNN_0_2019119_1573275600.0.txt processsing 153 89\n",
      "CNN_1_2019119_1573275600.0.txt processsing 792 419\n",
      "CNN_2_2019119_1573275600.0.txt processsing 203 116\n",
      "CNN_3_2019119_1573275600.0.txt processsing 328 166\n",
      "CNN_4_2019119_1573275600.0.txt processsing 2178 1100\n",
      "CNN_5_2019119_1573275600.0.txt processsing 733 362\n"
     ]
    }
   ],
   "source": [
    "\n",
    "os.chdir(r'C:\\Users\\Darshan\\Music\\raman_kannan\\NLP\\preprocessing')\n",
    "\n",
    "for file in os.listdir('.'):\n",
    "    \n",
    "    file_name = file.replace('.txt','')\n",
    "    fp = open(f'{file_name}_processed.txt','w')\n",
    "    lst = open(file,'r').readlines()\n",
    "    texts = str(lst[0])\n",
    "    \n",
    "    original_sent = word_tokenize(texts)\n",
    "    processed_sentence = []\n",
    "    \n",
    "    for text in sent_tokenize(texts):\n",
    "        #removing all special characters\n",
    "        processed_feature = re.sub(r'\\W', ' ', text)\n",
    "        \n",
    "        # remove all single characters\n",
    "        processed_feature= re.sub(r'\\s+[a-zA-Z]\\s+', ' ', processed_feature)\n",
    "\n",
    "        # Remove single characters from the start\n",
    "        processed_feature = re.sub(r'\\^[a-zA-Z]\\s+', ' ', processed_feature) \n",
    "\n",
    "        # Substituting multiple spaces with single space\n",
    "        processed_feature = re.sub(r'\\s+', ' ', processed_feature, flags=re.I)\n",
    "\n",
    "        # Converting to Lowercase\n",
    "        processed_feature = processed_feature.lower()\n",
    "\n",
    "        stop_words = set(stopwords.words('english'))\n",
    "        filtered_sent = []\n",
    "        for words in word_tokenize(processed_feature):\n",
    "            if not (words in stop_words):\n",
    "                filtered_sent.append(words)\n",
    "\n",
    "        processed_feature = ' '.join(filtered_sent)\n",
    "        processed_sentence.append(processed_feature)\n",
    "\n",
    "    processed_sent = ' '.join(processed_sentence)\n",
    "    fp.write(processed_sent)\n",
    "    fp.close()\n",
    "    print(f'{file} processsing',len(original_sent),len(word_tokenize(processed_sent)))\n"
   ]
  }
 ],
 "metadata": {
  "kernelspec": {
   "display_name": "Python 3",
   "language": "python",
   "name": "python3"
  },
  "language_info": {
   "codemirror_mode": {
    "name": "ipython",
    "version": 3
   },
   "file_extension": ".py",
   "mimetype": "text/x-python",
   "name": "python",
   "nbconvert_exporter": "python",
   "pygments_lexer": "ipython3",
   "version": "3.6.3"
  }
 },
 "nbformat": 4,
 "nbformat_minor": 2
}
