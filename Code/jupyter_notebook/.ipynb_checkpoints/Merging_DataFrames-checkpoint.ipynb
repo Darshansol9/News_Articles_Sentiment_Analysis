{
 "cells": [
  {
   "cell_type": "code",
   "execution_count": 2,
   "metadata": {
    "collapsed": true
   },
   "outputs": [],
   "source": [
    "import pandas as pd\n",
    "import json\n",
    "import os\n",
    "import warnings\n",
    "import datetime\n"
   ]
  },
  {
   "cell_type": "code",
   "execution_count": null,
   "metadata": {
    "collapsed": true
   },
   "outputs": [],
   "source": [
    "#Initializing the dataframe and filling out the values\n",
    "\n",
    "os.chdir(r'C:\\Users\\Darshan\\Music\\raman_kannan\\NLP')\n",
    "df = pd.read_csv('Complete_Articles_Data_Guardian.csv',names = ['Source','Date','Title','Url','File_name'],sep='|',encoding = 'utf-8')\n",
    "df_ = pd.read_csv('Complete_Articles_Data_Guardian_Processed.csv',names = ['Algo1','Algo2','Algo3','Algo4','Algo5','Result','File_name','Year','Month'],encoding = 'utf-8',sep = '|')\n",
    "df.reset_index()\n",
    "df_.reset_index()\n",
    "\n",
    "\n",
    "file_names = list(df_['File_name'].values)\n",
    "\n",
    "df['Algo1'] = ['NaN']*len(df)\n",
    "df['Algo2'] = ['NaN']*len(df)\n",
    "df['Algo3'] = ['NaN']*len(df)\n",
    "df['Algo4'] = ['NaN']*len(df)\n",
    "df['Algo5'] = ['NaN']*len(df)\n",
    "df['Result'] = ['NaN']*len(df)\n",
    "\n",
    "\n",
    "\n",
    "\n",
    "for i in range(len(df)):\n",
    "    print(df['File_name'][i])\n",
    "    if(str(df['File_name'][i]) in file_names):\n",
    "        index = file_names.index(df['File_name'][i])\n",
    "        df['Algo1'][i] = df_['Algo1'][index]\n",
    "        df['Algo2'][i] = df_['Algo2'][index]\n",
    "        df['Algo3'][i] = df_['Algo3'][index]\n",
    "        df['Algo4'][i] = df_['Algo4'][index]\n",
    "        df['Algo5'][i] = df_['Algo5'][index]\n",
    "        df['Result'][i] = df_['Result'][index]\n",
    "\n",
    "#print(df.head())\n",
    "df.to_csv('Complete_Articles_Data_Guardian_Final.csv',encoding = 'utf-8',sep='|',header=False)\n",
    "#print('Request Completed')"
   ]
  },
  {
   "cell_type": "code",
   "execution_count": null,
   "metadata": {
    "collapsed": true
   },
   "outputs": [],
   "source": [
    "#Renaming columns in final csv output file that contains file_name, source and other columns with sentiments\n",
    "df = pd.read_csv('Complete_Articles_Data_Guardian_Final.csv',names = ['Source','Date','Title','Url','File_name','Algo1','Algo2','Algo3','Algo4','Algo5','Result'],sep='|',encoding = 'utf-8',)\n",
    "df.rename(columns={'Algo1': 'NB', 'Algo2': 'MultiNB','Algo3':'BinaryNB','Algo4':'LogisticRegression','Algo5':'SVC','Result':'Sentiment'}, inplace=True)\n",
    "df.to_csv('Complete_Articles_Data_Guardian_FinalScore.csv',encoding = 'utf-8',sep='|',header=True)"
   ]
  },
  {
   "cell_type": "code",
   "execution_count": null,
   "metadata": {
    "collapsed": true
   },
   "outputs": [],
   "source": [
    "os.chdir(r'C:\\Users\\Darshan\\Desktop\\IBM_cp\\News_Articles_Sentiment_Analysis-master\\Data\\DataFrameFile_70k')\n",
    "df = pd.read_csv('Complete_Articles_Data.csv',names = ['Source','Date','Title','Url','File_name'],sep='|',encoding = 'utf-8')\n",
    "df['Date'] = pd.to_datetime(df['Date'])\n",
    "df1_ =df[(df['Date']>datetime.date(2019,3,31)) & (df['Date']<datetime.date(2019,5,1))]  \n",
    "df1_.to_csv('2010_2011.csv',encoding='utf-8',sep='|',header = True)"
   ]
  }
 ],
 "metadata": {
  "kernelspec": {
   "display_name": "Python 3",
   "language": "python",
   "name": "python3"
  },
  "language_info": {
   "codemirror_mode": {
    "name": "ipython",
    "version": 3
   },
   "file_extension": ".py",
   "mimetype": "text/x-python",
   "name": "python",
   "nbconvert_exporter": "python",
   "pygments_lexer": "ipython3",
   "version": "3.6.3"
  }
 },
 "nbformat": 4,
 "nbformat_minor": 2
}
