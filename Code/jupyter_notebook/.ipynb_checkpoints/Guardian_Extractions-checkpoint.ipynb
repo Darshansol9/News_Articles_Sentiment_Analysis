{
 "cells": [
  {
   "cell_type": "code",
   "execution_count": 3,
   "metadata": {
    "collapsed": true
   },
   "outputs": [],
   "source": [
    "import requests\n",
    "import pandas as pd\n",
    "from bs4 import BeautifulSoup\n",
    "import json\n",
    "from newspaper import Article\n",
    "from newspaper import fulltext\n",
    "import os \n",
    "import time\n",
    "import re"
   ]
  },
  {
   "cell_type": "code",
   "execution_count": null,
   "metadata": {},
   "outputs": [],
   "source": [
    "def guardian():\n",
    "    \n",
    "    #Changing the directory where to place the site_maps files\n",
    "    path_ = r'C:\\Users\\Darshan\\Music\\raman_kannan\\NLP\\guardian_sitemaps'\n",
    "    os.chdir(path_)\n",
    "    \n",
    "    #CNN has started using sitemaps from 2011 7th month so extracted from 2012 and explicitly done for 2011 done with this script\n",
    "    \n",
    "    years = ['2012']\n",
    "    months = {'jan':'01','feb':'02','mar':'03','apr':'04','may':'05','jun':'06','jul':'07','aug':'08','sep':'09','oct':'10','nov':'11','dec':'12'}\n",
    "    days = ['01','02','03','04','05','06','07','08','09','10','11','12','13','14','15','16','17','18','19','20','21','22','23','24','25','26','27','28']\n",
    "    url_main = 'https://www.theguardian.com/us-news/'\n",
    "    for y in years:\n",
    "        parent_folder = path_ + f'\\\\{y}'\n",
    "        os.makedirs(parent_folder,exist_ok = True)\n",
    "        os.chdir(parent_folder)\n",
    "        for m in months.keys():\n",
    "            sub_folder = parent_folder + f'\\\\{months[m]}'\n",
    "            os.makedirs(sub_folder,exist_ok = True)\n",
    "            os.chdir(sub_folder)\n",
    "            urls = {'url':[],'title':[]}\n",
    "            for d in days:\n",
    "            \n",
    "                url  = url_main + y+'/'+m+'/'+d+'/all'\n",
    "                print(url)\n",
    "                try:\n",
    "                \n",
    "                    page = requests.get(url=url,verify=True)\n",
    "\n",
    "                    #Checking the status of the requested page 200 means All ok\n",
    "                    if(page.status_code == 200):\n",
    "\n",
    "                        # Extracting atricle links using Beautiful soup library\n",
    "                        #The given urls viewed in page source where embedded in class call 'sitemap-link'\n",
    "\n",
    "                        soup = BeautifulSoup(page.content, 'html.parser')\n",
    "                        links = soup.find_all('a',attrs={'class':'u-faux-block-link__overlay js-headline-text'})   \n",
    "                        \n",
    "                        for link in links:\n",
    "                            urls['url'].append(link.get('href'))\n",
    "                            urls['title'].append(link.get_text())\n",
    "\n",
    "                        time.sleep(2)\n",
    "                        \n",
    "                except Exception as e:\n",
    "                        print(str(e))\n",
    "\n",
    "            #Storing in json frame\n",
    "            df = pd.DataFrame(urls)\n",
    "            df.to_json(f'Sitemap-{y}-{months[m]}.json')\n",
    "            #Sleeping for 2 seconds to avoid overloading the server with the requests\n",
    "                        \n",
    "guardian()                   \n",
    "print('Request Completed')"
   ]
  },
  {
   "cell_type": "code",
   "execution_count": 13,
   "metadata": {},
   "outputs": [
    {
     "ename": "SyntaxError",
     "evalue": "invalid syntax (<ipython-input-13-775bc68fde29>, line 1)",
     "output_type": "error",
     "traceback": [
      "\u001b[1;36m  File \u001b[1;32m\"<ipython-input-13-775bc68fde29>\"\u001b[1;36m, line \u001b[1;32m1\u001b[0m\n\u001b[1;33m    lst = [<a aria-hidden=\"true\" class=\"u-faux-block-link__overlay js-headline-text\" data-link-name=\"article\" href=\"https://www.theguardian.com/world/richard-adams-blog/2012/jan/01/iowa-gop-caucus-forecast-competition\" tabindex=\"-1\">Competition: predict the Iowa GOP caucus 2012 outcome</a>, <a aria-hidden=\"true\" class=\"u-faux-block-link__overlay js-headline-text\" data-link-name=\"article\" href=\"https://www.theguardian.com/world/2012/jan/01/iowa-gop-caucus-2012-republicans\" tabindex=\"-1\">Iowa GOP caucus 2012: crunch time for riven Republican candidates</a>, <a aria-hidden=\"true\" class=\"u-faux-block-link__overlay js-headline-text\" data-link-name=\"article\" href=\"https://www.theguardian.com/world/2012/jan/01/after-iowa-victory-candidates-republican\" tabindex=\"-1\">After Iowa: what victory would mean for the Republican candidates</a>, <a aria-hidden=\"true\" class=\"u-faux-block-link__overlay js-headline-text\" data-link-name=\"article\" href=\"https://www.theguardian.com/world/2012/jan/01/republican-race-reaches-iowa-caucuses\" tabindex=\"-1\">Republican candidates ready for first showdown in Iowa caucuses</a>, <a aria-hidden=\"true\" class=\"u-faux-block-link__overlay js-headline-text\" data-link-name=\"article\" href=\"https://www.theguardian.com/world/2012/jan/01/iowa-gop-poll-romney-santorum\" tabindex=\"-1\">Iowa GOP poll shows Romney leading but threatened by Santorum surge</a>, <a aria-hidden=\"true\" class=\"u-faux-block-link__overlay js-headline-text\" data-link-name=\"article\" href=\"https://www.theguardian.com/world/2012/jan/01/released-guantanamo-british-detainees\" tabindex=\"-1\">Britain's Guantánamo survivors are suffering a toxic legacy</a>, <a aria-hidden=\"true\" class=\"u-faux-block-link__overlay js-headline-text\" data-link-name=\"article\" href=\"https://www.theguardian.com/world/2012/jan/01/republicans-iowa-feelgood-factor\" tabindex=\"-1\">Republicans fear return of the feelgood factor as Iowa caucus nears</a>]\u001b[0m\n\u001b[1;37m           ^\u001b[0m\n\u001b[1;31mSyntaxError\u001b[0m\u001b[1;31m:\u001b[0m invalid syntax\n"
     ]
    }
   ],
   "source": [
    "[<a aria-hidden=\"true\" class=\"u-faux-block-link__overlay js-headline-text\" data-link-name=\"article\" href=\"https://www.theguardian.com/world/richard-adams-blog/2012/jan/01/iowa-gop-caucus-forecast-competition\" tabindex=\"-1\">Competition: predict the Iowa GOP caucus 2012 outcome</a>, <a aria-hidden=\"true\" class=\"u-faux-block-link__overlay js-headline-text\" data-link-name=\"article\" href=\"https://www.theguardian.com/world/2012/jan/01/iowa-gop-caucus-2012-republicans\" tabindex=\"-1\">Iowa GOP caucus 2012: crunch time for riven Republican candidates</a>, <a aria-hidden=\"true\" class=\"u-faux-block-link__overlay js-headline-text\" data-link-name=\"article\" href=\"https://www.theguardian.com/world/2012/jan/01/after-iowa-victory-candidates-republican\" tabindex=\"-1\">After Iowa: what victory would mean for the Republican candidates</a>, <a aria-hidden=\"true\" class=\"u-faux-block-link__overlay js-headline-text\" data-link-name=\"article\" href=\"https://www.theguardian.com/world/2012/jan/01/republican-race-reaches-iowa-caucuses\" tabindex=\"-1\">Republican candidates ready for first showdown in Iowa caucuses</a>, <a aria-hidden=\"true\" class=\"u-faux-block-link__overlay js-headline-text\" data-link-name=\"article\" href=\"https://www.theguardian.com/world/2012/jan/01/iowa-gop-poll-romney-santorum\" tabindex=\"-1\">Iowa GOP poll shows Romney leading but threatened by Santorum surge</a>, <a aria-hidden=\"true\" class=\"u-faux-block-link__overlay js-headline-text\" data-link-name=\"article\" href=\"https://www.theguardian.com/world/2012/jan/01/released-guantanamo-british-detainees\" tabindex=\"-1\">Britain's Guantánamo survivors are suffering a toxic legacy</a>, <a aria-hidden=\"true\" class=\"u-faux-block-link__overlay js-headline-text\" data-link-name=\"article\" href=\"https://www.theguardian.com/world/2012/jan/01/republicans-iowa-feelgood-factor\" tabindex=\"-1\">Republicans fear return of the feelgood factor as Iowa caucus nears</a>]    \n"
   ]
  },
  {
   "cell_type": "code",
   "execution_count": null,
   "metadata": {
    "collapsed": true
   },
   "outputs": [],
   "source": []
  }
 ],
 "metadata": {
  "kernelspec": {
   "display_name": "Python 3",
   "language": "python",
   "name": "python3"
  },
  "language_info": {
   "codemirror_mode": {
    "name": "ipython",
    "version": 3
   },
   "file_extension": ".py",
   "mimetype": "text/x-python",
   "name": "python",
   "nbconvert_exporter": "python",
   "pygments_lexer": "ipython3",
   "version": "3.6.3"
  }
 },
 "nbformat": 4,
 "nbformat_minor": 2
}
