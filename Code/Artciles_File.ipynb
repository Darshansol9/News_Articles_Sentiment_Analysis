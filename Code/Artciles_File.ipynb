{
 "cells": [
  {
   "cell_type": "code",
   "execution_count": 2,
   "metadata": {
    "collapsed": true
   },
   "outputs": [],
   "source": [
    "from newspaper import Article\n",
    "import pandas as pd\n",
    "from newspaper import fulltext\n",
    "import requests\n",
    "import newspaper\n",
    "import numpy as np\n",
    "from datetime import datetime"
   ]
  },
  {
   "cell_type": "code",
   "execution_count": 2,
   "metadata": {},
   "outputs": [
    {
     "name": "stdout",
     "output_type": "stream",
     "text": [
      "Request Completed\n"
     ]
    }
   ],
   "source": [
    "df = pd.read_json('Politics_Urls.json')\n",
    "politics = {'Outlet':[],'title':[],'url':[],'date':[],'text_file':[]}\n",
    "\n",
    "for row in range(len(df)):\n",
    "    url = df['politics_url'][row]\n",
    "    url = 'https://www.cnn.com'+ url\n",
    "    article = Article(url)\n",
    "    article.download()\n",
    "    article.parse()\n",
    "    politics['Outlet'].append(\"CNN\")\n",
    "    politics['date'].append(article.publish_date)\n",
    "    date = article.publish_date\n",
    "    date = f'{date.year}{date.month}{date.day}'\n",
    "    timestamp = datetime.timestamp(article.publish_date)\n",
    "    politics['title'].append(article.title)\n",
    "    politics['url'].append(article.url)\n",
    "    politics['text_file'].append(f'CNN_{row}_{date}_{int(timestamp)}.txt')\n",
    "    fp = open(f'CNN_{row}_{date}_{timestamp}.txt','w')\n",
    "    text = article.text\n",
    "    text = text.replace('\\n','')\n",
    "    fp.write(text)\n",
    "    fp.close()\n",
    "    if(row == 5):\n",
    "        break\n",
    "        \n",
    "df1 = pd.DataFrame(politics)\n",
    "df1.to_csv('Poltics_data.csv')\n",
    "print(\"Request Completed\")\n",
    "\n",
    "\n"
   ]
  },
  {
   "cell_type": "code",
   "execution_count": 85,
   "metadata": {
    "collapsed": true
   },
   "outputs": [],
   "source": [
    "#Writing into csv\n",
    "df = pd.read_csv('Poltics_data.csv')\n",
    "df = df[['Outlet', 'date', 'title', 'url','text_file']]\n",
    "df.set_index('date',inplace=True)\n",
    "df.to_csv('Poltics_data.csv')\n",
    "\n",
    "\n",
    "    \n",
    "    \n",
    "\n"
   ]
  }
 ],
 "metadata": {
  "kernelspec": {
   "display_name": "Python 3",
   "language": "python",
   "name": "python3"
  },
  "language_info": {
   "codemirror_mode": {
    "name": "ipython",
    "version": 3
   },
   "file_extension": ".py",
   "mimetype": "text/x-python",
   "name": "python",
   "nbconvert_exporter": "python",
   "pygments_lexer": "ipython3",
   "version": "3.6.3"
  }
 },
 "nbformat": 4,
 "nbformat_minor": 2
}
