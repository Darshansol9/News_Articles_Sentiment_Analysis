{
 "cells": [
  {
   "cell_type": "code",
   "execution_count": 2,
   "metadata": {
    "collapsed": true
   },
   "outputs": [],
   "source": [
    "from newspaper import Article\n",
    "import pandas as pd\n",
    "from newspaper import fulltext\n",
    "import requests\n",
    "import newspaper\n",
    "import numpy as np\n",
    "from datetime import datetime\n",
    "import random\n",
    "import string\n"
   ]
  },
  {
   "cell_type": "code",
   "execution_count": null,
   "metadata": {
    "collapsed": true
   },
   "outputs": [],
   "source": [
    "def generate_data():\n",
    "    dict_ = {'Outlet':[],'date':[],'url':[],'title':[],'text_file':[]}\n",
    "    os.chdir(r'C:\\Users\\Darshan\\Music\\raman_kannan\\NLP\\preprocessing')\n",
    "\n",
    "    for site_maps in os.listdir('.'):\n",
    "        if not (site_maps.find('Sitemap-')) #filtering only sitemaps file inside the given directory for safety measures\n",
    "            df = pd.read_json(site_maps)\n",
    "\n",
    "            for row in range(len(df)):\n",
    "\n",
    "                url = df['url'][row]\n",
    "                title = df['title'][row]\n",
    "                article = Article(url)\n",
    "                article.download()\n",
    "                article.parse()\n",
    "\n",
    "                #Making the date format of type YYYY-MM-DD\n",
    "                date_ = article.publish_date\n",
    "                date_ = f'{date_.year}-{date_.month}-{date_.day}'\n",
    "\n",
    "                #Appending all the attributes in dictionary\n",
    "\n",
    "                dict_['Outlet'].append(\"CNN\")\n",
    "                dict_['date'].append(date_)\n",
    "                dict_['title'].append(title)\n",
    "                dict_['url'].append(url)\n",
    "\n",
    "                #Generating Random File of 32 len to store only the file_name of that article url in dataframe\n",
    "                #Actual data will be stored in the generated file\n",
    "\n",
    "                random_file = ''.join([random.choice(string.ascii_letters + string.digits) for n in xrange(32)])\n",
    "                random_file = random_file + '.txt'\n",
    "\n",
    "                dict_['text_file'].append(random_file)\n",
    "\n",
    "\n",
    "                #Cleaning the raw data, which is done more in detailed as preprocessing script\n",
    "                #Writing to the file\n",
    "\n",
    "                text = article.text\n",
    "                text = text.replace('\\n','')\n",
    "                fp = open(random_file,'w')\n",
    "                fp.write(text)\n",
    "                fp.close()\n",
    "\n",
    "                #This will be removed\n",
    "                if(row == 5):\n",
    "                    break\n",
    "\n",
    "    #Creating a new dataframe as file format we needed.\n",
    "    df1 = pd.DataFrame(dict_)\n",
    "    df1.to_json('Complete_Articles.json')\n",
    "    print(\"Request Completed\")\n",
    "    \n",
    "#generate_data()"
   ]
  }
 ],
 "metadata": {
  "kernelspec": {
   "display_name": "Python 3",
   "language": "python",
   "name": "python3"
  },
  "language_info": {
   "codemirror_mode": {
    "name": "ipython",
    "version": 3
   },
   "file_extension": ".py",
   "mimetype": "text/x-python",
   "name": "python",
   "nbconvert_exporter": "python",
   "pygments_lexer": "ipython3",
   "version": "3.6.3"
  }
 },
 "nbformat": 4,
 "nbformat_minor": 2
}
